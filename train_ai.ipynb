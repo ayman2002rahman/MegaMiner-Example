{
 "cells": [
  {
   "cell_type": "code",
   "execution_count": 1,
   "metadata": {},
   "outputs": [],
   "source": [
    "import numpy as np\n",
    "from tqdm import tqdm\n",
    "import random\n",
    "from game_env import ACTION_SPACE"
   ]
  },
  {
   "cell_type": "code",
   "execution_count": 2,
   "metadata": {},
   "outputs": [],
   "source": [
    "def initialize_q_table():\n",
    "    Qtable = {}\n",
    "    return Qtable\n",
    "\n",
    "def get_q_value(Qtable, state, action):\n",
    "    return Qtable.get((state, action), 0.0)\n",
    "\n",
    "def get_max(Qtable, state):\n",
    "    best_action = None\n",
    "    max_q_value = float('-inf')\n",
    "    for action in ACTION_SPACE:\n",
    "        q_value = get_q_value(Qtable, state, action)\n",
    "        if q_value > max_q_value:\n",
    "            max_q_value = q_value\n",
    "            best_action = action\n",
    "    return max_q_value, best_action\n",
    "\n",
    "def hash_state(state): # make state tuple hashable\n",
    "    hashed_grid = tuple(tuple(row) for row in state[1])\n",
    "    return (state[0], hashed_grid)"
   ]
  },
  {
   "cell_type": "code",
   "execution_count": 3,
   "metadata": {},
   "outputs": [],
   "source": [
    "def greedy_policy(Qtable, state):\n",
    "    # Exploitation: take the action with the highest state, action value\n",
    "    return get_max(Qtable, state)[1]"
   ]
  },
  {
   "cell_type": "code",
   "execution_count": 4,
   "metadata": {},
   "outputs": [],
   "source": [
    "def epsilon_greedy_policy(Qtable, state, epsilon):\n",
    "    # Randomly generate a number between 0 and 1\n",
    "    random_num = random.uniform(0, 1)\n",
    "    # if random_num > greater than epsilon --> exploitation\n",
    "    if random_num > epsilon:\n",
    "        # Take the action with the highest value given a state\n",
    "        # np.argmax can be useful here\n",
    "        action = greedy_policy(Qtable, state)\n",
    "    # else --> exploration\n",
    "    else:\n",
    "        action = random.choice(ACTION_SPACE)\n",
    "\n",
    "    return action"
   ]
  },
  {
   "cell_type": "code",
   "execution_count": 25,
   "metadata": {},
   "outputs": [],
   "source": [
    "# Training parameters\n",
    "n_training_episodes = 20  # Total training episodes\n",
    "learning_rate = 0.7  # Learning rate\n",
    "\n",
    "# Evaluation parameters\n",
    "n_eval_episodes = 10000  # Total number of test episodes\n",
    "\n",
    "# Environment parameters\n",
    "max_steps = 30  # Max steps per episode\n",
    "gamma = 0.9  # Discounting rate\n",
    "eval_seed = []  # The evaluation seed of the environment\n",
    "\n",
    "# Exploration parameters\n",
    "max_epsilon = 1.0  # Exploration probability at start\n",
    "min_epsilon = 0.01  # Minimum exploration probability\n",
    "decay_rate = 0.005  # Exponential decay rate for exploration prob"
   ]
  },
  {
   "cell_type": "code",
   "execution_count": 26,
   "metadata": {},
   "outputs": [],
   "source": [
    "from game_env import Game_Env\n",
    "env = Game_Env()"
   ]
  },
  {
   "cell_type": "code",
   "execution_count": 27,
   "metadata": {},
   "outputs": [],
   "source": [
    "def train(n_training_episodes, min_epsilon, max_epsilon, decay_rate, env, max_steps, Qtable):\n",
    "    for episode in tqdm(range(n_training_episodes)):\n",
    "        # Reduce epsilon (because we need less and less exploration)\n",
    "        epsilon = min_epsilon + (max_epsilon - min_epsilon) * np.exp(-decay_rate * episode)\n",
    "        # Reset the environment\n",
    "        state, info = env.reset()\n",
    "        state = hash_state(state)\n",
    "        step = 0\n",
    "        terminated = False\n",
    "        truncated = False\n",
    "\n",
    "        # repeat\n",
    "        for step in range(max_steps):\n",
    "            # Choose the action At using epsilon greedy policy\n",
    "            action = epsilon_greedy_policy(Qtable, state, epsilon)\n",
    "\n",
    "            # Take action At and observe Rt+1 and St+1\n",
    "            # Take the action (a) and observe the outcome state(s') and reward (r)\n",
    "            new_state, reward, terminated, result = env.step(action)\n",
    "            new_state = hash_state(new_state)\n",
    "            # Update Q(s,a):= Q(s,a) + lr [R(s,a) + gamma * max Q(s',a') - Q(s,a)]\n",
    "            Qtable[(state, action)] = get_q_value(Qtable, state, action) + learning_rate * (\n",
    "                reward + gamma * get_max(Qtable, new_state)[0] - get_q_value(Qtable, state, action)\n",
    "            )\n",
    "\n",
    "            #Qtable[(state, action)] = 5\n",
    "\n",
    "            # If terminated or truncated finish the episode\n",
    "            if terminated or truncated:\n",
    "                break\n",
    "\n",
    "            # Our next state is the new state\n",
    "            state = new_state\n",
    "    return Qtable"
   ]
  },
  {
   "cell_type": "code",
   "execution_count": 28,
   "metadata": {},
   "outputs": [],
   "source": [
    "Qtable = initialize_q_table()"
   ]
  },
  {
   "cell_type": "code",
   "execution_count": 29,
   "metadata": {},
   "outputs": [
    {
     "name": "stderr",
     "output_type": "stream",
     "text": [
      "100%|██████████| 20/20 [00:00<00:00, 2530.65it/s]\n"
     ]
    }
   ],
   "source": [
    "Qtable = train(n_training_episodes, min_epsilon, max_epsilon, decay_rate, env, max_steps, Qtable)"
   ]
  },
  {
   "cell_type": "code",
   "execution_count": 32,
   "metadata": {},
   "outputs": [
    {
     "name": "stdout",
     "output_type": "stream",
     "text": [
      "7.0 \n",
      "7.0 \n",
      "7.0 \n",
      "7.0 \n",
      "7.0 \n",
      "7.0 \n",
      "7.0 \n",
      "7.0 \n",
      "7.0 \n",
      "7.0 \n",
      "7.0 \n",
      "7.0 \n",
      "7.0 \n",
      "7.0 \n",
      "7.0 \n",
      "7.0 \n",
      "7.0 \n",
      "7.0 \n",
      "qtable printed done!\n"
     ]
    }
   ],
   "source": [
    "for state, _ in Qtable:\n",
    "    state_explored = False\n",
    "    for action in ACTION_SPACE:\n",
    "        if get_q_value(Qtable, state, action) > 0:\n",
    "            print(get_q_value(Qtable, state, action), end=' ')\n",
    "            state_explored = True\n",
    "    if state_explored:\n",
    "        print()\n",
    "print('qtable printed done!')"
   ]
  },
  {
   "cell_type": "code",
   "execution_count": 31,
   "metadata": {},
   "outputs": [
    {
     "name": "stdout",
     "output_type": "stream",
     "text": [
      "423\n"
     ]
    }
   ],
   "source": [
    "print(len(Qtable.keys()))"
   ]
  },
  {
   "cell_type": "code",
   "execution_count": 33,
   "metadata": {},
   "outputs": [],
   "source": [
    "import pickle"
   ]
  },
  {
   "cell_type": "code",
   "execution_count": 34,
   "metadata": {},
   "outputs": [],
   "source": [
    "with open('qtable.pkl', 'wb') as file:\n",
    "    pickle.dump(Qtable, file)"
   ]
  },
  {
   "cell_type": "code",
   "execution_count": null,
   "metadata": {},
   "outputs": [],
   "source": []
  }
 ],
 "metadata": {
  "kernelspec": {
   "display_name": "Python 3",
   "language": "python",
   "name": "python3"
  },
  "language_info": {
   "codemirror_mode": {
    "name": "ipython",
    "version": 3
   },
   "file_extension": ".py",
   "mimetype": "text/x-python",
   "name": "python",
   "nbconvert_exporter": "python",
   "pygments_lexer": "ipython3",
   "version": "3.12.5"
  }
 },
 "nbformat": 4,
 "nbformat_minor": 2
}
